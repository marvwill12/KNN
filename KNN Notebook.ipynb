{
 "cells": [
  {
   "cell_type": "markdown",
   "metadata": {},
   "source": [
    "# <font face=\"times\"><font size=\"6pt\"><p style = 'text-align: center;'><b>Computational Social Science</b><br/><br/>\n",
    "<font face=\"times\"><font size=\"6pt\"><p style = 'text-align: center;'><b> K-Nearest Neighbors Algorithm</b><br/><br/>\n",
    "\n",
    "\n",
    "\n",
    "\n",
    "\n",
    "\n"
   ]
  },
  {
   "cell_type": "markdown",
   "metadata": {},
   "source": [
    "## The Data that I will be using in my analysis is medical data for Pima Indian Women as it relates to factors that contribute to a higher likelihood of having diabetes"
   ]
  },
  {
   "cell_type": "markdown",
   "metadata": {},
   "source": [
    "***\n",
    "## Importing all of the modules being used here:"
   ]
  },
  {
   "cell_type": "code",
   "execution_count": 1,
   "metadata": {},
   "outputs": [],
   "source": [
    "import pandas as pd"
   ]
  },
  {
   "cell_type": "code",
   "execution_count": 2,
   "metadata": {},
   "outputs": [],
   "source": [
    "import numpy as np"
   ]
  },
  {
   "cell_type": "code",
   "execution_count": 3,
   "metadata": {},
   "outputs": [],
   "source": [
    "import matplotlib.pyplot as plt"
   ]
  },
  {
   "cell_type": "code",
   "execution_count": 4,
   "metadata": {},
   "outputs": [],
   "source": [
    "from sklearn.model_selection import train_test_split, GridSearchCV"
   ]
  },
  {
   "cell_type": "code",
   "execution_count": 5,
   "metadata": {},
   "outputs": [],
   "source": [
    "from sklearn.neighbors import KNeighborsClassifier"
   ]
  },
  {
   "cell_type": "code",
   "execution_count": 6,
   "metadata": {},
   "outputs": [],
   "source": [
    "from sklearn.metrics import classification_report, confusion_matrix as cm"
   ]
  },
  {
   "cell_type": "code",
   "execution_count": 7,
   "metadata": {},
   "outputs": [],
   "source": [
    "from sklearn import metrics"
   ]
  },
  {
   "cell_type": "code",
   "execution_count": 8,
   "metadata": {},
   "outputs": [],
   "source": [
    "from sklearn.svm import SVC"
   ]
  },
  {
   "cell_type": "markdown",
   "metadata": {},
   "source": [
    "***\n",
    "## Load Data and Assign appropiate variables"
   ]
  },
  {
   "cell_type": "code",
   "execution_count": 9,
   "metadata": {},
   "outputs": [
    {
     "data": {
      "text/plain": [
       "'/Users/marvinwilliams/Documents/Gitstuff/KNN - Python'"
      ]
     },
     "execution_count": 9,
     "metadata": {},
     "output_type": "execute_result"
    }
   ],
   "source": [
    "pwd"
   ]
  },
  {
   "cell_type": "code",
   "execution_count": 10,
   "metadata": {},
   "outputs": [
    {
     "name": "stdout",
     "output_type": "stream",
     "text": [
      "KNN Notebook.ipynb  diabetes2.csv\r\n"
     ]
    }
   ],
   "source": [
    "ls"
   ]
  },
  {
   "cell_type": "code",
   "execution_count": 11,
   "metadata": {},
   "outputs": [],
   "source": [
    "diabetes = pd.read_csv(\"diabetes2.csv\")"
   ]
  },
  {
   "cell_type": "markdown",
   "metadata": {},
   "source": [
    "### Looking at vairables including Glucose, Insulin, BMI, Diabetes Pedigree Function, and Age, I will predict the likelihood of having diabetes based on these factors. "
   ]
  },
  {
   "cell_type": "code",
   "execution_count": 12,
   "metadata": {},
   "outputs": [
    {
     "data": {
      "text/plain": [
       "Pregnancies                   int64\n",
       "Glucose                       int64\n",
       "BloodPressure                 int64\n",
       "SkinThickness                 int64\n",
       "Insulin                       int64\n",
       "BMI                         float64\n",
       "DiabetesPedigreeFunction    float64\n",
       "Age                           int64\n",
       "Outcome                       int64\n",
       "dtype: object"
      ]
     },
     "execution_count": 12,
     "metadata": {},
     "output_type": "execute_result"
    }
   ],
   "source": [
    "diabetes.dtypes"
   ]
  },
  {
   "cell_type": "code",
   "execution_count": 13,
   "metadata": {},
   "outputs": [
    {
     "data": {
      "text/html": [
       "<div>\n",
       "<style scoped>\n",
       "    .dataframe tbody tr th:only-of-type {\n",
       "        vertical-align: middle;\n",
       "    }\n",
       "\n",
       "    .dataframe tbody tr th {\n",
       "        vertical-align: top;\n",
       "    }\n",
       "\n",
       "    .dataframe thead th {\n",
       "        text-align: right;\n",
       "    }\n",
       "</style>\n",
       "<table border=\"1\" class=\"dataframe\">\n",
       "  <thead>\n",
       "    <tr style=\"text-align: right;\">\n",
       "      <th></th>\n",
       "      <th>Pregnancies</th>\n",
       "      <th>Glucose</th>\n",
       "      <th>BloodPressure</th>\n",
       "      <th>SkinThickness</th>\n",
       "      <th>Insulin</th>\n",
       "      <th>BMI</th>\n",
       "      <th>DiabetesPedigreeFunction</th>\n",
       "      <th>Age</th>\n",
       "      <th>Outcome</th>\n",
       "    </tr>\n",
       "  </thead>\n",
       "  <tbody>\n",
       "    <tr>\n",
       "      <th>0</th>\n",
       "      <td>6</td>\n",
       "      <td>148</td>\n",
       "      <td>72</td>\n",
       "      <td>35</td>\n",
       "      <td>0</td>\n",
       "      <td>33.6</td>\n",
       "      <td>0.627</td>\n",
       "      <td>50</td>\n",
       "      <td>1</td>\n",
       "    </tr>\n",
       "    <tr>\n",
       "      <th>1</th>\n",
       "      <td>1</td>\n",
       "      <td>85</td>\n",
       "      <td>66</td>\n",
       "      <td>29</td>\n",
       "      <td>0</td>\n",
       "      <td>26.6</td>\n",
       "      <td>0.351</td>\n",
       "      <td>31</td>\n",
       "      <td>0</td>\n",
       "    </tr>\n",
       "    <tr>\n",
       "      <th>2</th>\n",
       "      <td>8</td>\n",
       "      <td>183</td>\n",
       "      <td>64</td>\n",
       "      <td>0</td>\n",
       "      <td>0</td>\n",
       "      <td>23.3</td>\n",
       "      <td>0.672</td>\n",
       "      <td>32</td>\n",
       "      <td>1</td>\n",
       "    </tr>\n",
       "    <tr>\n",
       "      <th>3</th>\n",
       "      <td>1</td>\n",
       "      <td>89</td>\n",
       "      <td>66</td>\n",
       "      <td>23</td>\n",
       "      <td>94</td>\n",
       "      <td>28.1</td>\n",
       "      <td>0.167</td>\n",
       "      <td>21</td>\n",
       "      <td>0</td>\n",
       "    </tr>\n",
       "    <tr>\n",
       "      <th>4</th>\n",
       "      <td>0</td>\n",
       "      <td>137</td>\n",
       "      <td>40</td>\n",
       "      <td>35</td>\n",
       "      <td>168</td>\n",
       "      <td>43.1</td>\n",
       "      <td>2.288</td>\n",
       "      <td>33</td>\n",
       "      <td>1</td>\n",
       "    </tr>\n",
       "  </tbody>\n",
       "</table>\n",
       "</div>"
      ],
      "text/plain": [
       "   Pregnancies  Glucose  BloodPressure  SkinThickness  Insulin   BMI  \\\n",
       "0            6      148             72             35        0  33.6   \n",
       "1            1       85             66             29        0  26.6   \n",
       "2            8      183             64              0        0  23.3   \n",
       "3            1       89             66             23       94  28.1   \n",
       "4            0      137             40             35      168  43.1   \n",
       "\n",
       "   DiabetesPedigreeFunction  Age  Outcome  \n",
       "0                     0.627   50        1  \n",
       "1                     0.351   31        0  \n",
       "2                     0.672   32        1  \n",
       "3                     0.167   21        0  \n",
       "4                     2.288   33        1  "
      ]
     },
     "execution_count": 13,
     "metadata": {},
     "output_type": "execute_result"
    }
   ],
   "source": [
    "diabetes.head()"
   ]
  },
  {
   "cell_type": "code",
   "execution_count": 14,
   "metadata": {},
   "outputs": [],
   "source": [
    "X = diabetes[['Glucose', 'Insulin', 'BMI', 'DiabetesPedigreeFunction', 'Age']]"
   ]
  },
  {
   "cell_type": "code",
   "execution_count": 15,
   "metadata": {},
   "outputs": [],
   "source": [
    "y = diabetes['Outcome']"
   ]
  },
  {
   "cell_type": "markdown",
   "metadata": {},
   "source": [
    "***\n",
    "***\n",
    "\n",
    "## Runnnig a `KNN`, using a value of K=10. \n",
    "\n",
    "## Creatig training and testing sets of data. "
   ]
  },
  {
   "cell_type": "code",
   "execution_count": 16,
   "metadata": {},
   "outputs": [],
   "source": [
    "X_train, X_test, y_train, y_test = train_test_split(X,\n",
    "                                                   y, random_state = 0)"
   ]
  },
  {
   "cell_type": "code",
   "execution_count": 17,
   "metadata": {},
   "outputs": [],
   "source": [
    "db = KNeighborsClassifier(n_neighbors = 10)"
   ]
  },
  {
   "cell_type": "code",
   "execution_count": 18,
   "metadata": {},
   "outputs": [
    {
     "data": {
      "text/plain": [
       "KNeighborsClassifier(n_neighbors=10)"
      ]
     },
     "execution_count": 18,
     "metadata": {},
     "output_type": "execute_result"
    }
   ],
   "source": [
    "db.fit(X_train, y_train)"
   ]
  },
  {
   "cell_type": "code",
   "execution_count": 19,
   "metadata": {},
   "outputs": [
    {
     "data": {
      "text/plain": [
       "0.7604166666666666"
      ]
     },
     "execution_count": 19,
     "metadata": {},
     "output_type": "execute_result"
    }
   ],
   "source": [
    "db.score(X_test, y_test)"
   ]
  },
  {
   "cell_type": "code",
   "execution_count": 20,
   "metadata": {},
   "outputs": [],
   "source": [
    "db_pred = db.predict(X_test)"
   ]
  },
  {
   "cell_type": "code",
   "execution_count": 21,
   "metadata": {},
   "outputs": [
    {
     "name": "stdout",
     "output_type": "stream",
     "text": [
      "Neighbors accuracy: 0.7604166666666666\n",
      "precision: 0.7508573914823914\n"
     ]
    }
   ],
   "source": [
    "print(\"Neighbors accuracy:\", metrics.accuracy_score(y_test, db_pred))\n",
    "print(\"precision:\", metrics.precision_score(y_test, db_pred, average='weighted'))"
   ]
  },
  {
   "cell_type": "code",
   "execution_count": 22,
   "metadata": {},
   "outputs": [
    {
     "data": {
      "text/plain": [
       "array([[116,  32],\n",
       "       [ 14,  30]])"
      ]
     },
     "execution_count": 22,
     "metadata": {},
     "output_type": "execute_result"
    }
   ],
   "source": [
    "cm(db_pred, y_test)"
   ]
  },
  {
   "cell_type": "markdown",
   "metadata": {},
   "source": [
    "***\n",
    "***\n",
    "\n",
    "\n",
    "## Run KNNs using the data from above and use GridSearch to find the optimal value of `K`. \n",
    "\n",
    "## Calculate the precision and accuracy for this `K` and how it compares to a `K` of 10\n"
   ]
  },
  {
   "cell_type": "code",
   "execution_count": 23,
   "metadata": {},
   "outputs": [],
   "source": [
    "X_train, X_test, y_train, y_test = train_test_split(X,\n",
    "                                                   y, random_state = 0)"
   ]
  },
  {
   "cell_type": "code",
   "execution_count": 24,
   "metadata": {},
   "outputs": [],
   "source": [
    "dbknn = KNeighborsClassifier()"
   ]
  },
  {
   "cell_type": "code",
   "execution_count": 25,
   "metadata": {},
   "outputs": [],
   "source": [
    "para = {'n_neighbors': range(1,11)}"
   ]
  },
  {
   "cell_type": "code",
   "execution_count": 26,
   "metadata": {},
   "outputs": [],
   "source": [
    "db_GS = GridSearchCV(dbknn, para, cv = 5)"
   ]
  },
  {
   "cell_type": "code",
   "execution_count": 27,
   "metadata": {},
   "outputs": [
    {
     "data": {
      "text/plain": [
       "GridSearchCV(cv=5, estimator=KNeighborsClassifier(),\n",
       "             param_grid={'n_neighbors': range(1, 11)})"
      ]
     },
     "execution_count": 27,
     "metadata": {},
     "output_type": "execute_result"
    }
   ],
   "source": [
    "db_GS.fit(X_train, y_train)"
   ]
  },
  {
   "cell_type": "code",
   "execution_count": 28,
   "metadata": {},
   "outputs": [
    {
     "data": {
      "text/html": [
       "<div>\n",
       "<style scoped>\n",
       "    .dataframe tbody tr th:only-of-type {\n",
       "        vertical-align: middle;\n",
       "    }\n",
       "\n",
       "    .dataframe tbody tr th {\n",
       "        vertical-align: top;\n",
       "    }\n",
       "\n",
       "    .dataframe thead th {\n",
       "        text-align: right;\n",
       "    }\n",
       "</style>\n",
       "<table border=\"1\" class=\"dataframe\">\n",
       "  <thead>\n",
       "    <tr style=\"text-align: right;\">\n",
       "      <th></th>\n",
       "      <th>mean_fit_time</th>\n",
       "      <th>std_fit_time</th>\n",
       "      <th>mean_score_time</th>\n",
       "      <th>std_score_time</th>\n",
       "      <th>param_n_neighbors</th>\n",
       "      <th>params</th>\n",
       "      <th>split0_test_score</th>\n",
       "      <th>split1_test_score</th>\n",
       "      <th>split2_test_score</th>\n",
       "      <th>split3_test_score</th>\n",
       "      <th>split4_test_score</th>\n",
       "      <th>mean_test_score</th>\n",
       "      <th>std_test_score</th>\n",
       "      <th>rank_test_score</th>\n",
       "    </tr>\n",
       "  </thead>\n",
       "  <tbody>\n",
       "    <tr>\n",
       "      <th>0</th>\n",
       "      <td>0.004173</td>\n",
       "      <td>0.000753</td>\n",
       "      <td>0.008380</td>\n",
       "      <td>0.001649</td>\n",
       "      <td>1</td>\n",
       "      <td>{'n_neighbors': 1}</td>\n",
       "      <td>0.715517</td>\n",
       "      <td>0.660870</td>\n",
       "      <td>0.669565</td>\n",
       "      <td>0.686957</td>\n",
       "      <td>0.695652</td>\n",
       "      <td>0.685712</td>\n",
       "      <td>0.019321</td>\n",
       "      <td>10</td>\n",
       "    </tr>\n",
       "    <tr>\n",
       "      <th>1</th>\n",
       "      <td>0.003107</td>\n",
       "      <td>0.000706</td>\n",
       "      <td>0.009019</td>\n",
       "      <td>0.003865</td>\n",
       "      <td>2</td>\n",
       "      <td>{'n_neighbors': 2}</td>\n",
       "      <td>0.706897</td>\n",
       "      <td>0.713043</td>\n",
       "      <td>0.713043</td>\n",
       "      <td>0.643478</td>\n",
       "      <td>0.686957</td>\n",
       "      <td>0.692684</td>\n",
       "      <td>0.026401</td>\n",
       "      <td>9</td>\n",
       "    </tr>\n",
       "    <tr>\n",
       "      <th>2</th>\n",
       "      <td>0.002212</td>\n",
       "      <td>0.000215</td>\n",
       "      <td>0.004699</td>\n",
       "      <td>0.000251</td>\n",
       "      <td>3</td>\n",
       "      <td>{'n_neighbors': 3}</td>\n",
       "      <td>0.698276</td>\n",
       "      <td>0.686957</td>\n",
       "      <td>0.704348</td>\n",
       "      <td>0.686957</td>\n",
       "      <td>0.686957</td>\n",
       "      <td>0.692699</td>\n",
       "      <td>0.007290</td>\n",
       "      <td>8</td>\n",
       "    </tr>\n",
       "    <tr>\n",
       "      <th>3</th>\n",
       "      <td>0.002243</td>\n",
       "      <td>0.000357</td>\n",
       "      <td>0.004929</td>\n",
       "      <td>0.000323</td>\n",
       "      <td>4</td>\n",
       "      <td>{'n_neighbors': 4}</td>\n",
       "      <td>0.672414</td>\n",
       "      <td>0.730435</td>\n",
       "      <td>0.721739</td>\n",
       "      <td>0.652174</td>\n",
       "      <td>0.721739</td>\n",
       "      <td>0.699700</td>\n",
       "      <td>0.031367</td>\n",
       "      <td>7</td>\n",
       "    </tr>\n",
       "    <tr>\n",
       "      <th>4</th>\n",
       "      <td>0.002030</td>\n",
       "      <td>0.000072</td>\n",
       "      <td>0.004519</td>\n",
       "      <td>0.000123</td>\n",
       "      <td>5</td>\n",
       "      <td>{'n_neighbors': 5}</td>\n",
       "      <td>0.724138</td>\n",
       "      <td>0.721739</td>\n",
       "      <td>0.756522</td>\n",
       "      <td>0.686957</td>\n",
       "      <td>0.739130</td>\n",
       "      <td>0.725697</td>\n",
       "      <td>0.023020</td>\n",
       "      <td>4</td>\n",
       "    </tr>\n",
       "    <tr>\n",
       "      <th>5</th>\n",
       "      <td>0.001947</td>\n",
       "      <td>0.000051</td>\n",
       "      <td>0.004550</td>\n",
       "      <td>0.000216</td>\n",
       "      <td>6</td>\n",
       "      <td>{'n_neighbors': 6}</td>\n",
       "      <td>0.706897</td>\n",
       "      <td>0.747826</td>\n",
       "      <td>0.756522</td>\n",
       "      <td>0.695652</td>\n",
       "      <td>0.765217</td>\n",
       "      <td>0.734423</td>\n",
       "      <td>0.027847</td>\n",
       "      <td>2</td>\n",
       "    </tr>\n",
       "    <tr>\n",
       "      <th>6</th>\n",
       "      <td>0.001918</td>\n",
       "      <td>0.000027</td>\n",
       "      <td>0.004379</td>\n",
       "      <td>0.000055</td>\n",
       "      <td>7</td>\n",
       "      <td>{'n_neighbors': 7}</td>\n",
       "      <td>0.706897</td>\n",
       "      <td>0.747826</td>\n",
       "      <td>0.773913</td>\n",
       "      <td>0.704348</td>\n",
       "      <td>0.773913</td>\n",
       "      <td>0.741379</td>\n",
       "      <td>0.030721</td>\n",
       "      <td>1</td>\n",
       "    </tr>\n",
       "    <tr>\n",
       "      <th>7</th>\n",
       "      <td>0.001980</td>\n",
       "      <td>0.000081</td>\n",
       "      <td>0.004406</td>\n",
       "      <td>0.000060</td>\n",
       "      <td>8</td>\n",
       "      <td>{'n_neighbors': 8}</td>\n",
       "      <td>0.706897</td>\n",
       "      <td>0.739130</td>\n",
       "      <td>0.782609</td>\n",
       "      <td>0.695652</td>\n",
       "      <td>0.747826</td>\n",
       "      <td>0.734423</td>\n",
       "      <td>0.030934</td>\n",
       "      <td>2</td>\n",
       "    </tr>\n",
       "    <tr>\n",
       "      <th>8</th>\n",
       "      <td>0.001922</td>\n",
       "      <td>0.000014</td>\n",
       "      <td>0.004451</td>\n",
       "      <td>0.000074</td>\n",
       "      <td>9</td>\n",
       "      <td>{'n_neighbors': 9}</td>\n",
       "      <td>0.715517</td>\n",
       "      <td>0.721739</td>\n",
       "      <td>0.747826</td>\n",
       "      <td>0.678261</td>\n",
       "      <td>0.747826</td>\n",
       "      <td>0.722234</td>\n",
       "      <td>0.025647</td>\n",
       "      <td>6</td>\n",
       "    </tr>\n",
       "    <tr>\n",
       "      <th>9</th>\n",
       "      <td>0.001966</td>\n",
       "      <td>0.000048</td>\n",
       "      <td>0.004506</td>\n",
       "      <td>0.000085</td>\n",
       "      <td>10</td>\n",
       "      <td>{'n_neighbors': 10}</td>\n",
       "      <td>0.706897</td>\n",
       "      <td>0.730435</td>\n",
       "      <td>0.756522</td>\n",
       "      <td>0.686957</td>\n",
       "      <td>0.739130</td>\n",
       "      <td>0.723988</td>\n",
       "      <td>0.024465</td>\n",
       "      <td>5</td>\n",
       "    </tr>\n",
       "  </tbody>\n",
       "</table>\n",
       "</div>"
      ],
      "text/plain": [
       "   mean_fit_time  std_fit_time  mean_score_time  std_score_time  \\\n",
       "0       0.004173      0.000753         0.008380        0.001649   \n",
       "1       0.003107      0.000706         0.009019        0.003865   \n",
       "2       0.002212      0.000215         0.004699        0.000251   \n",
       "3       0.002243      0.000357         0.004929        0.000323   \n",
       "4       0.002030      0.000072         0.004519        0.000123   \n",
       "5       0.001947      0.000051         0.004550        0.000216   \n",
       "6       0.001918      0.000027         0.004379        0.000055   \n",
       "7       0.001980      0.000081         0.004406        0.000060   \n",
       "8       0.001922      0.000014         0.004451        0.000074   \n",
       "9       0.001966      0.000048         0.004506        0.000085   \n",
       "\n",
       "  param_n_neighbors               params  split0_test_score  \\\n",
       "0                 1   {'n_neighbors': 1}           0.715517   \n",
       "1                 2   {'n_neighbors': 2}           0.706897   \n",
       "2                 3   {'n_neighbors': 3}           0.698276   \n",
       "3                 4   {'n_neighbors': 4}           0.672414   \n",
       "4                 5   {'n_neighbors': 5}           0.724138   \n",
       "5                 6   {'n_neighbors': 6}           0.706897   \n",
       "6                 7   {'n_neighbors': 7}           0.706897   \n",
       "7                 8   {'n_neighbors': 8}           0.706897   \n",
       "8                 9   {'n_neighbors': 9}           0.715517   \n",
       "9                10  {'n_neighbors': 10}           0.706897   \n",
       "\n",
       "   split1_test_score  split2_test_score  split3_test_score  split4_test_score  \\\n",
       "0           0.660870           0.669565           0.686957           0.695652   \n",
       "1           0.713043           0.713043           0.643478           0.686957   \n",
       "2           0.686957           0.704348           0.686957           0.686957   \n",
       "3           0.730435           0.721739           0.652174           0.721739   \n",
       "4           0.721739           0.756522           0.686957           0.739130   \n",
       "5           0.747826           0.756522           0.695652           0.765217   \n",
       "6           0.747826           0.773913           0.704348           0.773913   \n",
       "7           0.739130           0.782609           0.695652           0.747826   \n",
       "8           0.721739           0.747826           0.678261           0.747826   \n",
       "9           0.730435           0.756522           0.686957           0.739130   \n",
       "\n",
       "   mean_test_score  std_test_score  rank_test_score  \n",
       "0         0.685712        0.019321               10  \n",
       "1         0.692684        0.026401                9  \n",
       "2         0.692699        0.007290                8  \n",
       "3         0.699700        0.031367                7  \n",
       "4         0.725697        0.023020                4  \n",
       "5         0.734423        0.027847                2  \n",
       "6         0.741379        0.030721                1  \n",
       "7         0.734423        0.030934                2  \n",
       "8         0.722234        0.025647                6  \n",
       "9         0.723988        0.024465                5  "
      ]
     },
     "execution_count": 28,
     "metadata": {},
     "output_type": "execute_result"
    }
   ],
   "source": [
    "pd.DataFrame(db_GS.cv_results_)"
   ]
  },
  {
   "cell_type": "code",
   "execution_count": 29,
   "metadata": {},
   "outputs": [],
   "source": [
    "alist = [10,7]"
   ]
  },
  {
   "cell_type": "code",
   "execution_count": 30,
   "metadata": {},
   "outputs": [
    {
     "name": "stdout",
     "output_type": "stream",
     "text": [
      "10 Neighbors accuracy: 0.8072916666666666\n",
      "precision: 0.8025471552257267\n",
      "[[118  25]\n",
      " [ 12  37]]\n",
      "7 Neighbors accuracy: 0.8177083333333334\n",
      "precision: 0.8136297565721008\n",
      "[[117  22]\n",
      " [ 13  40]]\n"
     ]
    }
   ],
   "source": [
    "for a in alist:\n",
    "    X_train, X_test, y_train, y_test = train_test_split(X, y, random_state=0)\n",
    "    dbknnchk = KNeighborsClassifier(n_neighbors = a)\n",
    "    dbknnchk.fit(X, y)\n",
    "    db_newpred = dbknnchk.predict(X_test)\n",
    "    confused = cm(db_newpred, y_test)\n",
    "    print(str(a), \"Neighbors accuracy:\", metrics.accuracy_score(y_test, db_newpred))\n",
    "    print(\"precision:\", metrics.precision_score(y_test, db_newpred, average='weighted'))\n",
    "    print(confused)"
   ]
  },
  {
   "cell_type": "markdown",
   "metadata": {},
   "source": [
    "### The results from the GridSearch show us the optimal K for our model is 7, with the highest mean test score, yielding more precise and accurate results than our model with a K of 10\n"
   ]
  }
 ],
 "metadata": {
  "kernelspec": {
   "display_name": "Python 3",
   "language": "python",
   "name": "python3"
  },
  "language_info": {
   "codemirror_mode": {
    "name": "ipython",
    "version": 3
   },
   "file_extension": ".py",
   "mimetype": "text/x-python",
   "name": "python",
   "nbconvert_exporter": "python",
   "pygments_lexer": "ipython3",
   "version": "3.8.5"
  }
 },
 "nbformat": 4,
 "nbformat_minor": 1
}
